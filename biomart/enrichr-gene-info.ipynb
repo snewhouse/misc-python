{
 "cells": [
  {
   "cell_type": "markdown",
   "metadata": {},
   "source": [
    "# Playing with Enrichr api\n",
    "\n",
    "biomart is down. Ensembl access was done yesterday. \n",
    "\n",
    "Here, Enrcihr API is used to get rich information about genes of interest. \n",
    "\n",
    "The gene lists are those derived from public Brain Expression Array Experiments. Using Controls from AD related studies. Subsetting genes to those that are \"detected\", seen in > 80% samples by gender. "
   ]
  },
  {
   "cell_type": "code",
   "execution_count": null,
   "metadata": {
    "collapsed": true
   },
   "outputs": [],
   "source": [
    "import json\n",
    "import requests\n",
    "\n",
    "\n",
    "ENRICHR_URL = 'http://amp.pharm.mssm.edu/Enrichr/genemap'\n",
    "query_string = '?json=true&setup=true&gene=%s'\n",
    "gene = 'AKT1'\n",
    "\n",
    "response = requests.get(ENRICHR_URL + query_string % gene)\n",
    "if not response.ok:\n",
    "    raise Exception('Error searching for terms')\n",
    "    \n",
    "data = json.loads(response.text)\n",
    "print(data)"
   ]
  },
  {
   "cell_type": "code",
   "execution_count": null,
   "metadata": {
    "collapsed": true
   },
   "outputs": [],
   "source": [
    "##  try another one gene = CLU"
   ]
  },
  {
   "cell_type": "code",
   "execution_count": null,
   "metadata": {
    "collapsed": true
   },
   "outputs": [],
   "source": [
    "## docs.python-requests\n",
    "Guide: http://docs.python-requests.org/en/master/user/quickstart/  \n",
    "        \n",
    "        see bit on chunks \n",
    "    "
   ]
  },
  {
   "cell_type": "markdown",
   "metadata": {},
   "source": [
    "## The Final Solution\n",
    "after some messing around and learing python on the fly...this works"
   ]
  },
  {
   "cell_type": "code",
   "execution_count": 55,
   "metadata": {
    "collapsed": false
   },
   "outputs": [
    {
     "name": "stdout",
     "output_type": "stream",
     "text": [
      "--------------------------------------------------\n",
      "Enrichr API: Find terms that contain a given gene\n",
      "--------------------------------------------------\n",
      "Enrichr API: Start : Sat Jun 18 12:19:00 2016\n",
      "Enrichr API: Gene List:  gene_list.txt\n",
      "Enrichr API: getting infomration on gene: WNK1\n",
      "Enrichr API: running query: http://amp.pharm.mssm.edu/Enrichr/genemap?json=true&setup=true&gene=WNK1\n",
      "Enrichr API: sending results to : WNK1.json\n",
      "Enrichr API: getting infomration on gene: CLU\n",
      "Enrichr API: running query: http://amp.pharm.mssm.edu/Enrichr/genemap?json=true&setup=true&gene=CLU\n",
      "Enrichr API: sending results to : CLU.json\n",
      "Enrichr API: getting infomration on gene: TREM2\n",
      "Enrichr API: running query: http://amp.pharm.mssm.edu/Enrichr/genemap?json=true&setup=true&gene=TREM2\n",
      "Enrichr API: sending results to : TREM2.json\n",
      "Enrichr API: getting infomration on gene: FTO\n",
      "Enrichr API: running query: http://amp.pharm.mssm.edu/Enrichr/genemap?json=true&setup=true&gene=FTO\n",
      "Enrichr API: sending results to : FTO.json\n",
      "--------------------------------------------------\n",
      "Sat Jun 18 12:19:03 2016 Enrichr API: End : Sat Jun 18 12:19:03 2016\n",
      "--------------------------------------------------\n"
     ]
    }
   ],
   "source": [
    "import json\n",
    "import requests\n",
    "import time\n",
    "import sys\n",
    "\n",
    "# Enrichr API set up. See http://amp.pharm.mssm.edu/Enrichr/help#api&q=4\n",
    "ENRICHR_URL = 'http://amp.pharm.mssm.edu/Enrichr/genemap'\n",
    "query_string = '?json=true&setup=true&gene=%s'\n",
    "\n",
    "# Time stamping\n",
    "print(\"--------------------------------------------------\")\n",
    "print(\"Enrichr API: Find terms that contain a given gene\")\n",
    "print(\"--------------------------------------------------\")\n",
    "print(\"Enrichr API: Start : %s\"  % time.ctime())\n",
    "\n",
    "# get gene list\n",
    "genelist = \"gene_list.txt\"\n",
    "f = open(genelist)\n",
    "print(\"Enrichr API: Gene List: \", genelist)\n",
    "# read line by line\n",
    "genes = f.readlines()\n",
    "\n",
    "# loop through genes and send to enrichr\n",
    "for my_gene in genes:\n",
    "    # get gene name\n",
    "    gene_to_annotate = my_gene.replace(\"\\n\",\"\").strip()\n",
    "    print(\"Enrichr API: getting infomration on gene:\", gene_to_annotate)\n",
    "    # outputfile\n",
    "    outputfile = gene_to_annotate + '.json'\n",
    "    # open outputfile for writing\n",
    "    fout = open(outputfile,'wb')\n",
    "    # send request\n",
    "    print(\"Enrichr API: running query:\", ENRICHR_URL + query_string % gene_to_annotate)\n",
    "    response = requests.get(ENRICHR_URL + query_string % gene_to_annotate)\n",
    "    # check it ok\n",
    "    if not response.ok:\n",
    "        raise Exception('Error searching for terms')\n",
    "    # write results     \n",
    "    print(\"Enrichr API: sending results to :\", outputfile)\n",
    "    for chunk in response.iter_content(chunk_size=1024):\n",
    "        if chunk:\n",
    "            fout.write(chunk)\n",
    "    # close output file\n",
    "    fout.close()\n",
    "    \n",
    "# The End\n",
    "print(\"--------------------------------------------------\")\n",
    "print(\"Enrichr API: End : %s\"  % time.ctime())\n",
    "print(\"--------------------------------------------------\")"
   ]
  },
  {
   "cell_type": "code",
   "execution_count": 35,
   "metadata": {
    "collapsed": false
   },
   "outputs": [
    {
     "data": {
      "text/plain": [
       "'FTO\\n.json'"
      ]
     },
     "execution_count": 35,
     "metadata": {},
     "output_type": "execute_result"
    }
   ],
   "source": [
    "outputfile"
   ]
  },
  {
   "cell_type": "code",
   "execution_count": 44,
   "metadata": {
    "collapsed": false
   },
   "outputs": [
    {
     "data": {
      "text/plain": [
       "'Sat Jun 18 12:14:16 2016'"
      ]
     },
     "execution_count": 44,
     "metadata": {},
     "output_type": "execute_result"
    }
   ],
   "source": [
    "time.ctime()"
   ]
  },
  {
   "cell_type": "code",
   "execution_count": 49,
   "metadata": {
    "collapsed": false
   },
   "outputs": [
    {
     "data": {
      "text/plain": [
       "2.467879"
      ]
     },
     "execution_count": 49,
     "metadata": {},
     "output_type": "execute_result"
    }
   ],
   "source": [
    "time.clock()"
   ]
  },
  {
   "cell_type": "code",
   "execution_count": null,
   "metadata": {
    "collapsed": true
   },
   "outputs": [],
   "source": []
  }
 ],
 "metadata": {
  "kernelspec": {
   "display_name": "Python 3",
   "language": "python",
   "name": "python3"
  },
  "language_info": {
   "codemirror_mode": {
    "name": "ipython",
    "version": 3
   },
   "file_extension": ".py",
   "mimetype": "text/x-python",
   "name": "python",
   "nbconvert_exporter": "python",
   "pygments_lexer": "ipython3",
   "version": "3.5.1"
  }
 },
 "nbformat": 4,
 "nbformat_minor": 0
}
