{
 "cells": [
  {
   "cell_type": "markdown",
   "metadata": {},
   "source": [
    "## Ensembl API\n",
    "python example taken from https://github.com/Ensembl/ensembl-rest/wiki/Example-Python-Client"
   ]
  },
  {
   "cell_type": "code",
   "execution_count": null,
   "metadata": {
    "collapsed": true
   },
   "outputs": [],
   "source": [
    "#!/usr/bin/env python\n",
    "\n",
    "import sys\n",
    "import urllib\n",
    "import urllib2\n",
    "import json\n",
    "import time\n",
    "\n",
    "\n",
    "class EnsemblRestClient(object):\n",
    "    def __init__(self, server='http://rest.ensembl.org', reqs_per_sec=15):\n",
    "        self.server = server\n",
    "        self.reqs_per_sec = reqs_per_sec\n",
    "        self.req_count = 0\n",
    "        self.last_req = 0\n",
    "\n",
    "    def perform_rest_action(self, endpoint, hdrs=None, params=None):\n",
    "        if hdrs is None:\n",
    "            hdrs = {}\n",
    "\n",
    "        if 'Content-Type' not in hdrs:\n",
    "            hdrs['Content-Type'] = 'application/json'\n",
    "\n",
    "        if params:\n",
    "            endpoint += '?' + urllib.urlencode(params)\n",
    "\n",
    "        data = None\n",
    "\n",
    "        # check if we need to rate limit ourselves\n",
    "        if self.req_count >= self.reqs_per_sec:\n",
    "            delta = time.time() - self.last_req\n",
    "            if delta < 1:\n",
    "                time.sleep(1 - delta)\n",
    "            self.last_req = time.time()\n",
    "            self.req_count = 0\n",
    "\n",
    "        try:\n",
    "            request = urllib2.Request(self.server + endpoint, headers=hdrs)\n",
    "            response = urllib2.urlopen(request)\n",
    "            content = response.read()\n",
    "            if content:\n",
    "                data = json.loads(content)\n",
    "            self.req_count += 1\n",
    "\n",
    "        except urllib2.HTTPError, e:\n",
    "            # check if we are being rate limited by the server\n",
    "            if e.code == 429:\n",
    "                if 'Retry-After' in e.headers:\n",
    "                    retry = e.headers['Retry-After']\n",
    "                    time.sleep(float(retry))\n",
    "                    self.perform_rest_action(endpoint, hdrs, params)\n",
    "            else:\n",
    "                sys.stderr.write('Request failed for {0}: Status code: {1.code} Reason: {1.reason}\\n'.format(endpoint, e))\n",
    "\n",
    "        return data\n",
    "\n",
    "    def get_variants(self, species, symbol):\n",
    "        genes = self.perform_rest_action(\n",
    "            '/xrefs/symbol/{0}/{1}'.format(species, symbol), \n",
    "            params={'object_type': 'gene'}\n",
    "        )\n",
    "        if genes:\n",
    "            stable_id = genes[0]['id']\n",
    "            variants = self.perform_rest_action(\n",
    "                '/overlap/id/{0}'.format(stable_id),\n",
    "                params={'feature': 'variation'}\n",
    "            )\n",
    "            return variants\n",
    "        return None\n",
    "\n",
    "\n",
    "def run(species, symbol):\n",
    "    client = EnsemblRestClient()\n",
    "    variants = client.get_variants(species, symbol)\n",
    "    if variants:\n",
    "        for v in variants:\n",
    "            print '{seq_region_name}:{start}-{end}:{strand} ==> {id} ({consequence_type})'.format(**v);\n",
    "\n",
    "if __name__ == '__main__':\n",
    "    if len(sys.argv) == 3:\n",
    "        species, symbol = sys.argv[1:]\n",
    "    else:\n",
    "        species, symbol = 'human', 'BRAF'\n",
    "\n",
    "    run(species, symbol)"
   ]
  },
  {
   "cell_type": "markdown",
   "metadata": {},
   "source": [
    "start my edits & playing around.....\n"
   ]
  },
  {
   "cell_type": "code",
   "execution_count": 9,
   "metadata": {
    "collapsed": false
   },
   "outputs": [
    {
     "name": "stdout",
     "output_type": "stream",
     "text": [
      "http://rest.ensembl.org/info/ping\n"
     ]
    }
   ],
   "source": [
    "#!/usr/bin/env python\n",
    "\n",
    "import sys\n",
    "import json\n",
    "import time\n",
    "import requests\n",
    "\n",
    "# some settings\n",
    "server = 'http://rest.ensembl.org'\n",
    "ping_endpoint = '/info/ping'\n",
    "url = server + ping_endpoint\n",
    "print(url)\n",
    "headers = 'application/json'\n",
    "\n",
    "# gene \n",
    "gene = 'WNK1'\n",
    "species = 'human'\n",
    "\n",
    "# payload\n",
    "payload = {}\n",
    "\n",
    "# response\n",
    "response = requests.post(url, files=payload)\n",
    "if not response.ok:\n",
    "  raise Exception('Error analyzing gene list')\n",
    "\n"
   ]
  },
  {
   "cell_type": "code",
   "execution_count": null,
   "metadata": {
    "collapsed": true
   },
   "outputs": [],
   "source": []
  }
 ],
 "metadata": {
  "kernelspec": {
   "display_name": "Python 3",
   "language": "python",
   "name": "python3"
  },
  "language_info": {
   "codemirror_mode": {
    "name": "ipython",
    "version": 3
   },
   "file_extension": ".py",
   "mimetype": "text/x-python",
   "name": "python",
   "nbconvert_exporter": "python",
   "pygments_lexer": "ipython3",
   "version": "3.5.1"
  }
 },
 "nbformat": 4,
 "nbformat_minor": 0
}
